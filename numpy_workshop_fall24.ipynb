{
  "nbformat": 4,
  "nbformat_minor": 0,
  "metadata": {
    "colab": {
      "provenance": [],
      "include_colab_link": true
    },
    "kernelspec": {
      "name": "python3",
      "display_name": "Python 3"
    },
    "language_info": {
      "name": "python"
    }
  },
  "cells": [
    {
      "cell_type": "markdown",
      "metadata": {
        "id": "view-in-github",
        "colab_type": "text"
      },
      "source": [
        "<a href=\"https://colab.research.google.com/github/ebwhite1994/numpy_workshop_24/blob/main/numpy_workshop_fall24.ipynb\" target=\"_parent\"><img src=\"https://colab.research.google.com/assets/colab-badge.svg\" alt=\"Open In Colab\"/></a>"
      ]
    },
    {
      "cell_type": "markdown",
      "source": [
        "# Data Analysis with NumPy\n",
        "## PyIU Advanced Python Workshop\n",
        "\n",
        "Author: Ethan White, Lexi Gault\n",
        "\n",
        "Last modified: 10/21/2024\n"
      ],
      "metadata": {
        "id": "Uq5AcY0k728e"
      }
    },
    {
      "cell_type": "markdown",
      "source": [
        "### Introduction to $\\texttt{NumPy}$\n",
        "\n",
        "Often, in research, you want to analyze many things at the same time. A few examples could be the masses of multiple stars, the luminosity of a collection of galaxies, or the orbital periods of planets (just to name a few).\n",
        "\n",
        "NumPy can be a great tool to help analyze a collection of data easily and efficiently! You can find more about the basic characteristics and uses of NumPy [here.](https://numpy.org/doc/stable/user/whatisnumpy.html)  "
      ],
      "metadata": {
        "id": "Qb9mQId_8D_v"
      }
    },
    {
      "cell_type": "markdown",
      "source": [
        "Before we get to actually using Numpy, lets explore the defult option for storing a lot of data in Python (lists).\n",
        "\n",
        "Lists are a method of storing data (positions, velocities, masses, whatever you want) that Python recognizes without having to load in any special modules."
      ],
      "metadata": {
        "id": "lQNSNQMh8yU0"
      }
    },
    {
      "cell_type": "code",
      "execution_count": null,
      "metadata": {
        "colab": {
          "base_uri": "https://localhost:8080/"
        },
        "id": "tOLytVKV70jU",
        "outputId": "622712d7-c42f-4fbb-93bf-8cf2195cedbc"
      },
      "outputs": [
        {
          "output_type": "stream",
          "name": "stdout",
          "text": [
            "[1, 2, 3, 4]\n"
          ]
        }
      ],
      "source": [
        "#Create a list with a few values to use in examples\n",
        "test_list = [1, 2, 3, 4]\n",
        "print(test_list)"
      ]
    },
    {
      "cell_type": "markdown",
      "source": [
        "We can see that our test values are stored in the list and we can call them later (for example, in print(test_list)).\n",
        "\n",
        "However, lists don't work great if we wanted to do math operations on them. Say, if we wanted to multiple all the values in the list by some number."
      ],
      "metadata": {
        "id": "KtVKpAmb9fsa"
      }
    },
    {
      "cell_type": "code",
      "source": [
        "print(test_list * 2)"
      ],
      "metadata": {
        "colab": {
          "base_uri": "https://localhost:8080/"
        },
        "id": "-dQwDjIz9c9N",
        "outputId": "d1660cdf-1918-40c4-f5c8-ea224d360fd2"
      },
      "execution_count": null,
      "outputs": [
        {
          "output_type": "stream",
          "name": "stdout",
          "text": [
            "[1, 2, 3, 4, 1, 2, 3, 4]\n"
          ]
        }
      ]
    },
    {
      "cell_type": "markdown",
      "source": [
        "Rather than multiplying the values by our constant, this tells Python to repeat the list (twice in this example).\n",
        "\n",
        "If we wanted to do some math operation on each value in our list, we would have to make a loop and do the calculation each time. (This goes through each item in our list and does the operation each time.)"
      ],
      "metadata": {
        "id": "co6sx1lB9yq4"
      }
    },
    {
      "cell_type": "code",
      "source": [
        "#Create a new, empty list to store our multiplied values\n",
        "new_list = []\n",
        "#Go through each item in our list and multiple it by 2\n",
        "for i in range(len(test_list)):\n",
        "  #put the multiplied items in our new list\n",
        "  new_list.append(test_list[i] * 2)\n",
        "#print out the old and new list to see the differences\n",
        "print(test_list)\n",
        "print(new_list)"
      ],
      "metadata": {
        "colab": {
          "base_uri": "https://localhost:8080/"
        },
        "id": "JwmiIlak9xtX",
        "outputId": "51859703-6373-408e-b21f-b1f512f55a62"
      },
      "execution_count": null,
      "outputs": [
        {
          "output_type": "stream",
          "name": "stdout",
          "text": [
            "[1, 2, 3, 4]\n",
            "[2, 4, 6, 8]\n"
          ]
        }
      ]
    },
    {
      "cell_type": "markdown",
      "source": [
        "For the four values we have here, that doesn't take very long; but once you move to a catalogue that might have thousands of stars (*or a simulation which could have hundreds of thousands*) and more complicated math operations, this can really add up.\n",
        "\n",
        "By using Numpy, you can reduce the time it takes to run things by utilizing what are called \"arrays.\"\n",
        "\n",
        "Arrays are like lists in that they can store data. Arrays, however, are much better for performing math operations!"
      ],
      "metadata": {
        "id": "JqizvtlC-aPs"
      }
    },
    {
      "cell_type": "markdown",
      "source": [
        "Before we use Numpy, however, we have to tell python to load it.\n",
        "\n",
        "We use an alias so that whenever we use Numpy, we don't have to type out the whole name."
      ],
      "metadata": {
        "id": "b-uFbnoJ_bZs"
      }
    },
    {
      "cell_type": "code",
      "source": [
        "#Bring in this package (numpy) and give it a name so you don't have to type \"numpy\" every time. np is the name most people use.\n",
        "#It can be useful to use that abbreviation as well so when you need to look up how to do something online, you are already using the same name as the people who have the answers.\n",
        "import numpy as np"
      ],
      "metadata": {
        "id": "kgjNLhV2_f3C"
      },
      "execution_count": null,
      "outputs": []
    },
    {
      "cell_type": "markdown",
      "source": [
        "Since we already have a list of values, let's use that. We can use np.asarray() to turn a list into an array."
      ],
      "metadata": {
        "id": "10N0hEDYd11G"
      }
    },
    {
      "cell_type": "code",
      "source": [
        "#Create an array to work with\n",
        "#For simplicity, we will use \"asarray\" to turn our list we were working with already into a numpy array.\n",
        "test_array = np.asarray(test_list)\n",
        "print(test_array)"
      ],
      "metadata": {
        "colab": {
          "base_uri": "https://localhost:8080/"
        },
        "id": "H9MSIngL-M4S",
        "outputId": "28abec19-6a80-4a8d-ebfa-dd7aecb67c0f"
      },
      "execution_count": null,
      "outputs": [
        {
          "output_type": "stream",
          "name": "stdout",
          "text": [
            "[1 2 3 4]\n"
          ]
        }
      ]
    },
    {
      "cell_type": "markdown",
      "source": [
        "When printed out, this array looks the same as the list we had before before. But when we try to do math using the array..."
      ],
      "metadata": {
        "id": "AYvnw6KrAJ5F"
      }
    },
    {
      "cell_type": "code",
      "source": [
        "print(test_array * 2)"
      ],
      "metadata": {
        "colab": {
          "base_uri": "https://localhost:8080/"
        },
        "id": "ewi5INAwAHt9",
        "outputId": "ae94c387-793b-4369-e3f4-2e328c1b17d2"
      },
      "execution_count": null,
      "outputs": [
        {
          "output_type": "stream",
          "name": "stdout",
          "text": [
            "[2 4 6 8]\n"
          ]
        }
      ]
    },
    {
      "cell_type": "markdown",
      "source": [
        "Now instead of having to make that loop and create a whole new list, we can  simply multiply the array and get the results!"
      ],
      "metadata": {
        "id": "wnTjvIsjAUt-"
      }
    },
    {
      "cell_type": "markdown",
      "source": [
        "Now that we know why you might want to use an array, we can talk about how to work with them in more detail.\n",
        "\n",
        "Let's say our array corresponded to distances to stars in light years (ly) and we were only interested in stars that were closer to use (lets say less than 5 ly)."
      ],
      "metadata": {
        "id": "ciZjRDKhBL5E"
      }
    },
    {
      "cell_type": "code",
      "source": [
        "#Let's make an array so that our name makes sense with what we are doing\n",
        "star_dist = test_array * 2\n",
        "print(star_dist)"
      ],
      "metadata": {
        "colab": {
          "base_uri": "https://localhost:8080/"
        },
        "id": "X2kc2mbaAT2G",
        "outputId": "1579c00b-67d6-4359-d1e5-7369e9e7db5e"
      },
      "execution_count": null,
      "outputs": [
        {
          "output_type": "stream",
          "name": "stdout",
          "text": [
            "[2 4 6 8]\n"
          ]
        }
      ]
    },
    {
      "cell_type": "markdown",
      "source": [
        "We can print individual values of our array by using brackets [ ] at the end of our array. This can be useful if you want to look at a specific item of your array.\n",
        "\n",
        "If you were to look at the loop we made for our list at the beginning of the notebook, you would see the same indexing method. The way you call items from an array and a list using brackets is the same!"
      ],
      "metadata": {
        "id": "y8khIQ6je-7M"
      }
    },
    {
      "cell_type": "code",
      "source": [
        "#We know that our first two stars meet our conditions (distances less than 5 ly).\n",
        "#We can print out those distances specifically by calling the items from our array.\n",
        "#To do this we use brackets [] with a number inside immediately after our array. Specifically, this must be an integer (0, 1, 2, etc. *not* 1.0, 2.0...)\n",
        "#It important to know that python is a 0 indexed language, so to get the first item of our array, we actually need to write [0]\n",
        "print(star_dist[0])\n",
        "print(star_dist[1])\n",
        "print(star_dist[2])\n",
        "print(star_dist[3])\n",
        "#Notice how we can't print the [4] index of the array because, even though there are four items in the array, the index numbering begins at 0. This would make [4] the 5th item in our array of four items.\n",
        "print(star_dist[4])"
      ],
      "metadata": {
        "colab": {
          "base_uri": "https://localhost:8080/",
          "height": 251
        },
        "id": "vqKQ700NDCvm",
        "outputId": "b1649786-f19b-41c8-a5ad-0827589ed44b"
      },
      "execution_count": null,
      "outputs": [
        {
          "output_type": "stream",
          "name": "stdout",
          "text": [
            "2\n",
            "4\n",
            "6\n",
            "8\n"
          ]
        },
        {
          "output_type": "error",
          "ename": "IndexError",
          "evalue": "index 4 is out of bounds for axis 0 with size 4",
          "traceback": [
            "\u001b[0;31m---------------------------------------------------------------------------\u001b[0m",
            "\u001b[0;31mIndexError\u001b[0m                                Traceback (most recent call last)",
            "\u001b[0;32m<ipython-input-9-f4b643566fdf>\u001b[0m in \u001b[0;36m<cell line: 10>\u001b[0;34m()\u001b[0m\n\u001b[1;32m      8\u001b[0m \u001b[0mprint\u001b[0m\u001b[0;34m(\u001b[0m\u001b[0mstar_dist\u001b[0m\u001b[0;34m[\u001b[0m\u001b[0;36m3\u001b[0m\u001b[0;34m]\u001b[0m\u001b[0;34m)\u001b[0m\u001b[0;34m\u001b[0m\u001b[0;34m\u001b[0m\u001b[0m\n\u001b[1;32m      9\u001b[0m \u001b[0;31m#Notice how we can't print the [4] index of the array because, even though there are four items in the array, the index numbering begins at 0. This would make [4] the 5th item in our array of four items.\u001b[0m\u001b[0;34m\u001b[0m\u001b[0;34m\u001b[0m\u001b[0m\n\u001b[0;32m---> 10\u001b[0;31m \u001b[0mprint\u001b[0m\u001b[0;34m(\u001b[0m\u001b[0mstar_dist\u001b[0m\u001b[0;34m[\u001b[0m\u001b[0;36m4\u001b[0m\u001b[0;34m]\u001b[0m\u001b[0;34m)\u001b[0m\u001b[0;34m\u001b[0m\u001b[0;34m\u001b[0m\u001b[0m\n\u001b[0m",
            "\u001b[0;31mIndexError\u001b[0m: index 4 is out of bounds for axis 0 with size 4"
          ]
        }
      ]
    },
    {
      "cell_type": "markdown",
      "source": [
        "If you wanted to get multiple items from an array at the same time, you can get a \"slice\" of an array. This also uses the brackets [ ] combined with a colon :"
      ],
      "metadata": {
        "id": "o_d7si4Ce9sa"
      }
    },
    {
      "cell_type": "code",
      "source": [
        "#If we want a range of stars, not just individual ones, we can get a slice of the array.\n",
        "print(star_dist[:2])"
      ],
      "metadata": {
        "colab": {
          "base_uri": "https://localhost:8080/"
        },
        "id": "0W43nidiDwTb",
        "outputId": "7b80d7b1-2985-4d78-f152-af894cbb9d22"
      },
      "execution_count": null,
      "outputs": [
        {
          "output_type": "stream",
          "name": "stdout",
          "text": [
            "[2 4]\n"
          ]
        }
      ]
    },
    {
      "cell_type": "markdown",
      "source": [
        "The colon \":\" here tells the array that we want to look between two specific indices.\n",
        "\n",
        "Since we don't have anything before the colon, that tells numpy that we want items from the very **start** of the list.\n",
        "\n",
        "Our final index (here \"2\") says the index we want to go *up* to but **not** including it. So we show the items corresponding to star_dist[0] and star_dist[1], but **not** star_dist[2]."
      ],
      "metadata": {
        "id": "Me_dl32XD9tm"
      }
    },
    {
      "cell_type": "markdown",
      "source": [
        "In the same way, we could look at the outer stars."
      ],
      "metadata": {
        "id": "23c3V6MCE5iV"
      }
    },
    {
      "cell_type": "code",
      "source": [
        "print(star_dist[2:])"
      ],
      "metadata": {
        "colab": {
          "base_uri": "https://localhost:8080/"
        },
        "id": "V7J2Fwq2D7f8",
        "outputId": "c06a17b8-6ee7-4e54-ed71-61d36f6861a6"
      },
      "execution_count": null,
      "outputs": [
        {
          "output_type": "stream",
          "name": "stdout",
          "text": [
            "[6 8]\n"
          ]
        }
      ]
    },
    {
      "cell_type": "markdown",
      "source": [
        "In this case our starting index is 2 (we show star_dist[2]) and then since there is not number after the colon, it tells numpy we want to see all the items beyond the index (from 2 until the end)."
      ],
      "metadata": {
        "id": "JtkZzuXlE-P1"
      }
    },
    {
      "cell_type": "markdown",
      "source": [
        "If we didn't know the index numbers where the stars had distances greater than 5 ly already, we could also use numpy to figure it out!\n",
        "\n",
        "np.where() is a method which you can use to determine where in the array some condition (or set of conditions) is met. In our example, we'll find where in the array items have a distance less than 5 ly and where items have a distance greater than (or equal to) 5 ly."
      ],
      "metadata": {
        "id": "l7s0TkkjIHnq"
      }
    },
    {
      "cell_type": "code",
      "source": [
        "#np.where() takes in an array and an argument. Here, that is our distance array (star_dist) and our condition (distances less than 5)\n",
        "#We then apply np.where() like we would the indices we were using before, in brackets \"array[np.where()]\"\n",
        "print(\"The distances of stars in our array with total distance less than 5 ly are:\")\n",
        "print(star_dist[np.where(star_dist < 5)])\n",
        "\n",
        "#We can do the same for stars with distances 5 ly or greater by changing the condition in np.where()\n",
        "print(\"The distances of stars in our array with total distance greater than or equal to 5 ly are:\")\n",
        "print(star_dist[np.where(star_dist >= 5)])\n",
        "\n",
        "#We put the equal sign into \">=\" to make sure that we don't exclude any stars which have distances *exactly equal* to 5 ly"
      ],
      "metadata": {
        "colab": {
          "base_uri": "https://localhost:8080/"
        },
        "id": "b3xnDJZ3E9Vi",
        "outputId": "c168418d-0883-452c-949b-929353e191c2"
      },
      "execution_count": null,
      "outputs": [
        {
          "output_type": "stream",
          "name": "stdout",
          "text": [
            "The distances of stars in our array with total distance less than 5 ly is:\n",
            "[2 4]\n",
            "The distances of stars in our array with total distance greater than or equal to 5 ly is:\n",
            "[6 8]\n"
          ]
        }
      ]
    },
    {
      "cell_type": "markdown",
      "source": [
        "We can also use multiple conditions in np.where().\n",
        "\n",
        "Let's find where the distance is greater than 2 ly, but also less than 8 ly."
      ],
      "metadata": {
        "id": "-9StX9-WJgx2"
      }
    },
    {
      "cell_type": "code",
      "source": [
        "print(\"The distances of stars in our array which have distances greater than 2 ly and less than 8 ly are:\")\n",
        "print(star_dist[np.where((star_dist > 2) & (star_dist < 8))])"
      ],
      "metadata": {
        "id": "da3ig0QVInfJ",
        "colab": {
          "base_uri": "https://localhost:8080/"
        },
        "outputId": "c976066a-1be8-452d-82dd-5094ca1b57eb"
      },
      "execution_count": null,
      "outputs": [
        {
          "output_type": "stream",
          "name": "stdout",
          "text": [
            "The distances of stars in our array which have distances greater than 2 ly and less than 8 ly are:\n",
            "[4 6]\n"
          ]
        }
      ]
    },
    {
      "cell_type": "markdown",
      "source": [
        "Each condition is surrounded by parenthesis ( ) and has an ampersand & between them. You can apply as many conditions as you want as long as you surround each condition with ( ) and separate them with &."
      ],
      "metadata": {
        "id": "4nx3tE9Rgy0o"
      }
    },
    {
      "cell_type": "markdown",
      "source": [
        "Finally, let's combine all the things we have used to see the power of NumPy arrays.\n",
        "\n",
        "NumPy has a number of mathematical capabilities that you can use, some will be invoked below. For a full list, you can visit the documentation here: https://numpy.org/doc/stable/reference/routines.math.html\n",
        "\n",
        "First, however, let's make a function."
      ],
      "metadata": {
        "id": "eeoeX5x0hRMa"
      }
    },
    {
      "cell_type": "markdown",
      "source": [
        "A function takes in an input and produces an output, like a machine or an assembly line.\n",
        "\n",
        "In this case, let's give our function cartesian coordinates and have it produce a distance (radius)."
      ],
      "metadata": {
        "id": "VVkcgQ2ShjYE"
      }
    },
    {
      "cell_type": "code",
      "source": [
        "#We first have to define our function (def) and give it a name\n",
        "#We then use ( ) to encompass our inputs and put a colon \":\" to start telling it what we want it to do\n",
        "#In this case, we want to make a radius, so let's give it x, y, and z components.\n",
        "def radius(x, y, z):\n",
        "  r = np.sqrt(x ** 2 + y ** 2 + z ** 2)\n",
        "  return(r)"
      ],
      "metadata": {
        "id": "6iTgf1m6gxyE"
      },
      "execution_count": null,
      "outputs": []
    },
    {
      "cell_type": "markdown",
      "source": [
        "The function we have made will take in x, y, and z components and return a 3D radius.\n",
        "\n",
        "Let's try it out using indvidual values."
      ],
      "metadata": {
        "id": "Yzpx3j7IiMxj"
      }
    },
    {
      "cell_type": "code",
      "source": [
        "x1 = 2\n",
        "y1 = 3\n",
        "z1 = 4\n",
        "print(\"The radius using \" + str(x1) + \", \" + str(y1) + \", and \" + str(z1) + \" is \" + str(radius(x1, y1, z1)))\n",
        "\n",
        "x2 = 4\n",
        "y2 = 6\n",
        "z2 = 1\n",
        "print(\"The radius using \" + str(x2) + \", \" + str(y2) + \", and \" + str(z2) + \" is \" + str(radius(x2, y2, z2)))"
      ],
      "metadata": {
        "colab": {
          "base_uri": "https://localhost:8080/"
        },
        "id": "zepo5S9WiYxr",
        "outputId": "eaf68450-8390-4048-c4da-6bdded365810"
      },
      "execution_count": null,
      "outputs": [
        {
          "output_type": "stream",
          "name": "stdout",
          "text": [
            "The radius using 2, 3, and 4 is 5.385164807134504\n",
            "The radius using 4, 6, and 1 is 7.280109889280518\n"
          ]
        }
      ]
    },
    {
      "cell_type": "markdown",
      "source": [
        "Using the power of arrays, however, we can input a whole bunch of values at once and get out an array of radii!\n",
        "\n",
        "We can make some random values to use for out cartesian coordinates."
      ],
      "metadata": {
        "id": "SkOlkvmni3uC"
      }
    },
    {
      "cell_type": "code",
      "source": [
        "x_rand = np.random.randn(1, 10)\n",
        "y_rand = np.random.randn(1, 10)\n",
        "z_rand = np.random.randn(1, 10)\n",
        "print(x_rand)\n",
        "print(y_rand)\n",
        "print(z_rand)"
      ],
      "metadata": {
        "colab": {
          "base_uri": "https://localhost:8080/"
        },
        "id": "jRb8OcktioFU",
        "outputId": "c893ee14-4c96-42d7-985f-f4f36fa218fa"
      },
      "execution_count": null,
      "outputs": [
        {
          "output_type": "stream",
          "name": "stdout",
          "text": [
            "[[-0.78135111  1.81521048 -0.17467659  0.08721339 -0.29493574  0.64070778\n",
            "  -0.77697586  0.57425503  1.37541179 -3.56414949]]\n",
            "[[ 1.02282902e+00  2.51548171e-01  6.10616482e-01  2.74442221e-01\n",
            "   1.30678391e+00 -1.22187447e+00 -5.81696328e-01 -1.25297434e-03\n",
            "  -5.73654010e-01 -1.27994056e-01]]\n",
            "[[ 1.48802739  1.0341357  -0.34231927  0.31857005 -1.36197456 -1.35291476\n",
            "   0.14991907 -1.65581504 -1.12510527 -1.2871085 ]]\n"
          ]
        }
      ]
    },
    {
      "cell_type": "markdown",
      "source": [
        "Now all we need to do to turn these cartesian coordinates into radii is plug our arrays into our function.\n",
        "\n",
        "Rather than just printout out what the result is, we can save our values by setting a new variable equal to our function."
      ],
      "metadata": {
        "id": "SL7d8_G5k5_B"
      }
    },
    {
      "cell_type": "code",
      "source": [
        "r = radius(x_rand, y_rand, z_rand)\n",
        "print(r)"
      ],
      "metadata": {
        "colab": {
          "base_uri": "https://localhost:8080/"
        },
        "id": "BO5jWmZ4i_mO",
        "outputId": "495e3846-9e06-4fd9-b1fa-756222c3568c"
      },
      "execution_count": null,
      "outputs": [
        {
          "output_type": "stream",
          "name": "stdout",
          "text": [
            "[[1.96746392 2.1042106  0.72148935 0.4294317  1.91040466 1.93232037\n",
            "  0.98210887 1.75256779 1.8672703  3.79159496]]\n"
          ]
        }
      ]
    },
    {
      "cell_type": "markdown",
      "source": [
        "So far, we have shown the power of NumPy as a tool for quickly performing math/analysis on an array of data points.\n",
        "\n",
        "There are multiple types of NumPy arrays that can be useful!"
      ],
      "metadata": {
        "id": "EN5q8EQmebJa"
      }
    },
    {
      "cell_type": "code",
      "source": [
        "## Basic array: creates a simple array from passing a list to it\n",
        "np_array = np.array([1, 2, 3, 4])\n",
        "print(\"Regular NumPy array:\", np_array)\n",
        "\n",
        "## Zeros array: creates an array of 0s of the length you specify\n",
        "zeros_array = np.zeros(5)\n",
        "print(\"Zeros array:\",zeros_array)\n",
        "\n",
        "## Ones array: creates an array of 1s of the length you specify\n",
        "ones_array = np.ones(5)\n",
        "print(\"Ones array:\",ones_array)\n",
        "\n",
        "## Empty array: creates an empty array of the length you specify\n",
        "empty_array = np.empty(5)\n",
        "print(\"Empty array:\",empty_array)\n",
        "\n",
        "# Note!: if we print our empty array, it will be filled with random values.\n",
        "\n",
        "## Zeros, Ones, and Empty arrays are often used as place holder arrays that are later filled with something else.\n",
        "# We can fill the empty array as an example below:\n",
        "for i in range(len(empty_array)):\n",
        "  empty_array[i] = i\n",
        "print(\"Empty array filled with new values:\",empty_array)"
      ],
      "metadata": {
        "colab": {
          "base_uri": "https://localhost:8080/"
        },
        "id": "ZTzoWBcdhKoS",
        "outputId": "a420f603-b5e8-476e-c80e-9bf386ef200c"
      },
      "execution_count": null,
      "outputs": [
        {
          "output_type": "stream",
          "name": "stdout",
          "text": [
            "Regular NumPy array: [1 2 3 4]\n",
            "Zeros array: [0. 0. 0. 0. 0.]\n",
            "Ones array: [1. 1. 1. 1. 1.]\n",
            "Empty array: [1. 1. 1. 1. 1.]\n",
            "Empty array filled with new values: [0. 1. 2. 3. 4.]\n"
          ]
        }
      ]
    },
    {
      "cell_type": "code",
      "source": [
        "## Often really helpful are arrays filled with ranges of numbers, which we can do in a couple of ways.\n",
        "\n",
        "## A range: creates an array that contains a range of evenly spaced integers, will take inputs as np.array(min,max,stepsize)\n",
        "range_array = np.arange(0, 10, 1)\n",
        "print(range_array)\n",
        "\n",
        "## Linear space: creates an array of values that are linearly spaced in a specified interval, will take inputs as np.array(min,max,number of total elements)\n",
        "linspace_array = np.linspace(1, 10, 10)\n",
        "print(linspace_array)"
      ],
      "metadata": {
        "id": "yAVwxl7JlIum",
        "colab": {
          "base_uri": "https://localhost:8080/"
        },
        "outputId": "14212eb3-7db2-4c23-80cf-c410ab67c40d"
      },
      "execution_count": null,
      "outputs": [
        {
          "output_type": "stream",
          "name": "stdout",
          "text": [
            "[0 1 2 3 4 5 6 7 8 9]\n",
            "[ 1.  2.  3.  4.  5.  6.  7.  8.  9. 10.]\n"
          ]
        }
      ]
    },
    {
      "cell_type": "markdown",
      "source": [
        "Let's use a NumPy generated range of numbers to do some math!"
      ],
      "metadata": {
        "id": "7h-NnVBOjPx-"
      }
    },
    {
      "cell_type": "code",
      "source": [
        "# Perhaps we want to plot sine, cosine, and tangent waves. We can do that over the same x range pretty easily in NumPy!\n",
        "\n",
        "x_degrees = np.arange(-360,360,0.1)\n",
        "\n",
        "#The NumPy trigonometric functions take values in radians, so we want to convert from degrees to radians!\n",
        "x_radians = np.radians(x_degrees)\n",
        "\n",
        "#Now we can very easily pass the x range through the sine, cosine, and tangent functions\n",
        "y_sin = np.sin(x_radians)\n",
        "y_cos = np.cos(x_radians)\n",
        "y_tan = np.tan(x_radians)"
      ],
      "metadata": {
        "id": "z1De2dvjfkAR"
      },
      "execution_count": null,
      "outputs": []
    },
    {
      "cell_type": "code",
      "source": [
        "# Let's make a quick plot to see what we just did!\n",
        "import matplotlib.pyplot as plt"
      ],
      "metadata": {
        "id": "fh1OdrnAl-_l"
      },
      "execution_count": null,
      "outputs": []
    },
    {
      "cell_type": "code",
      "source": [
        "plt.plot(x_degrees, y_sin, color = 'blue',label='sine')\n",
        "plt.plot(x_degrees, y_cos, color = 'red', label='cosine')\n",
        "plt.plot(x_degrees, y_tan, color = 'green',label='tangent')\n",
        "plt.legend(loc=\"best\")\n",
        "plt.xlim(-360,360)\n",
        "plt.ylim(-4,4)\n",
        "plt.show()"
      ],
      "metadata": {
        "colab": {
          "base_uri": "https://localhost:8080/",
          "height": 435
        },
        "id": "Or7_ucXTmX2N",
        "outputId": "7365ee33-d241-4fad-a1db-cc94783a1ac9"
      },
      "execution_count": null,
      "outputs": [
        {
          "output_type": "display_data",
          "data": {
            "text/plain": [
              "<Figure size 640x480 with 1 Axes>"
            ],
            "image/png": "[encoded data removed]"
          },
          "metadata": {}
        }
      ]
    },
    {
      "cell_type": "markdown",
      "source": [
        "### We can also use NumPy to read in data files.\n",
        "\n",
        "There are a couple of ways that you can read in data files. Which way you use depends on personal preference, and sometimes the type of data file you are reading in and what you want from it."
      ],
      "metadata": {
        "id": "2TrOL4XQqdvE"
      }
    },
    {
      "cell_type": "code",
      "source": [
        "# We can load in a text file like the following!\n",
        "data = np.loadtxt('star_nums.txt')\n",
        "#But wait, the data columns are labeled, and np.loadtxt doesn't read in strings"
      ],
      "metadata": {
        "colab": {
          "base_uri": "https://localhost:8080/",
          "height": 443
        },
        "id": "ZG2FA-Mqq8tV",
        "outputId": "7bbff8b7-bc20-41c5-a6ea-309be67aaf7c"
      },
      "execution_count": null,
      "outputs": [
        {
          "output_type": "error",
          "ename": "ValueError",
          "evalue": "could not convert string 'rank,' to float64 at row 0, column 1.",
          "traceback": [
            "\u001b[0;31m---------------------------------------------------------------------------\u001b[0m",
            "\u001b[0;31mValueError\u001b[0m                                Traceback (most recent call last)",
            "\u001b[0;31mValueError\u001b[0m: could not convert string to float: 'rank,'",
            "\nThe above exception was the direct cause of the following exception:\n",
            "\u001b[0;31mValueError\u001b[0m                                Traceback (most recent call last)",
            "\u001b[0;32m<ipython-input-29-1151f6a09c73>\u001b[0m in \u001b[0;36m<cell line: 2>\u001b[0;34m()\u001b[0m\n\u001b[1;32m      1\u001b[0m \u001b[0;31m# We can load in a text file like the following!\u001b[0m\u001b[0;34m\u001b[0m\u001b[0;34m\u001b[0m\u001b[0m\n\u001b[0;32m----> 2\u001b[0;31m \u001b[0mdata\u001b[0m \u001b[0;34m=\u001b[0m \u001b[0mnp\u001b[0m\u001b[0;34m.\u001b[0m\u001b[0mloadtxt\u001b[0m\u001b[0;34m(\u001b[0m\u001b[0;34m'star_nums.txt'\u001b[0m\u001b[0;34m)\u001b[0m\u001b[0;34m\u001b[0m\u001b[0;34m\u001b[0m\u001b[0m\n\u001b[0m\u001b[1;32m      3\u001b[0m \u001b[0;31m#But wait, the data columns are labeled, and np.loadtxt doesn't read in strings\u001b[0m\u001b[0;34m\u001b[0m\u001b[0;34m\u001b[0m\u001b[0m\n\u001b[1;32m      4\u001b[0m \u001b[0mdata\u001b[0m \u001b[0;34m=\u001b[0m \u001b[0mnp\u001b[0m\u001b[0;34m.\u001b[0m\u001b[0mloadtxt\u001b[0m\u001b[0;34m(\u001b[0m\u001b[0;34m'star_nums.txt'\u001b[0m\u001b[0;34m,\u001b[0m\u001b[0mskiprows\u001b[0m\u001b[0;34m=\u001b[0m\u001b[0;36m0\u001b[0m\u001b[0;34m)\u001b[0m\u001b[0;34m\u001b[0m\u001b[0;34m\u001b[0m\u001b[0m\n",
            "\u001b[0;32m/usr/local/lib/python3.10/dist-packages/numpy/lib/npyio.py\u001b[0m in \u001b[0;36mloadtxt\u001b[0;34m(fname, dtype, comments, delimiter, converters, skiprows, usecols, unpack, ndmin, encoding, max_rows, quotechar, like)\u001b[0m\n\u001b[1;32m   1371\u001b[0m         \u001b[0mdelimiter\u001b[0m \u001b[0;34m=\u001b[0m \u001b[0mdelimiter\u001b[0m\u001b[0;34m.\u001b[0m\u001b[0mdecode\u001b[0m\u001b[0;34m(\u001b[0m\u001b[0;34m'latin1'\u001b[0m\u001b[0;34m)\u001b[0m\u001b[0;34m\u001b[0m\u001b[0;34m\u001b[0m\u001b[0m\n\u001b[1;32m   1372\u001b[0m \u001b[0;34m\u001b[0m\u001b[0m\n\u001b[0;32m-> 1373\u001b[0;31m     arr = _read(fname, dtype=dtype, comment=comment, delimiter=delimiter,\n\u001b[0m\u001b[1;32m   1374\u001b[0m                 \u001b[0mconverters\u001b[0m\u001b[0;34m=\u001b[0m\u001b[0mconverters\u001b[0m\u001b[0;34m,\u001b[0m \u001b[0mskiplines\u001b[0m\u001b[0;34m=\u001b[0m\u001b[0mskiprows\u001b[0m\u001b[0;34m,\u001b[0m \u001b[0musecols\u001b[0m\u001b[0;34m=\u001b[0m\u001b[0musecols\u001b[0m\u001b[0;34m,\u001b[0m\u001b[0;34m\u001b[0m\u001b[0;34m\u001b[0m\u001b[0m\n\u001b[1;32m   1375\u001b[0m                 \u001b[0munpack\u001b[0m\u001b[0;34m=\u001b[0m\u001b[0munpack\u001b[0m\u001b[0;34m,\u001b[0m \u001b[0mndmin\u001b[0m\u001b[0;34m=\u001b[0m\u001b[0mndmin\u001b[0m\u001b[0;34m,\u001b[0m \u001b[0mencoding\u001b[0m\u001b[0;34m=\u001b[0m\u001b[0mencoding\u001b[0m\u001b[0;34m,\u001b[0m\u001b[0;34m\u001b[0m\u001b[0;34m\u001b[0m\u001b[0m\n",
            "\u001b[0;32m/usr/local/lib/python3.10/dist-packages/numpy/lib/npyio.py\u001b[0m in \u001b[0;36m_read\u001b[0;34m(fname, delimiter, comment, quote, imaginary_unit, usecols, skiplines, max_rows, converters, ndmin, unpack, dtype, encoding)\u001b[0m\n\u001b[1;32m   1014\u001b[0m \u001b[0;34m\u001b[0m\u001b[0m\n\u001b[1;32m   1015\u001b[0m         \u001b[0;32mif\u001b[0m \u001b[0mread_dtype_via_object_chunks\u001b[0m \u001b[0;32mis\u001b[0m \u001b[0;32mNone\u001b[0m\u001b[0;34m:\u001b[0m\u001b[0;34m\u001b[0m\u001b[0;34m\u001b[0m\u001b[0m\n\u001b[0;32m-> 1016\u001b[0;31m             arr = _load_from_filelike(\n\u001b[0m\u001b[1;32m   1017\u001b[0m                 \u001b[0mdata\u001b[0m\u001b[0;34m,\u001b[0m \u001b[0mdelimiter\u001b[0m\u001b[0;34m=\u001b[0m\u001b[0mdelimiter\u001b[0m\u001b[0;34m,\u001b[0m \u001b[0mcomment\u001b[0m\u001b[0;34m=\u001b[0m\u001b[0mcomment\u001b[0m\u001b[0;34m,\u001b[0m \u001b[0mquote\u001b[0m\u001b[0;34m=\u001b[0m\u001b[0mquote\u001b[0m\u001b[0;34m,\u001b[0m\u001b[0;34m\u001b[0m\u001b[0;34m\u001b[0m\u001b[0m\n\u001b[1;32m   1018\u001b[0m                 \u001b[0mimaginary_unit\u001b[0m\u001b[0;34m=\u001b[0m\u001b[0mimaginary_unit\u001b[0m\u001b[0;34m,\u001b[0m\u001b[0;34m\u001b[0m\u001b[0;34m\u001b[0m\u001b[0m\n",
            "\u001b[0;31mValueError\u001b[0m: could not convert string 'rank,' to float64 at row 0, column 1."
          ]
        }
      ]
    },
    {
      "cell_type": "code",
      "source": [
        "data = np.loadtxt('star_nums.txt',skiprows=1)\n",
        "print(data)\n",
        "print(data[0])"
      ],
      "metadata": {
        "colab": {
          "base_uri": "https://localhost:8080/"
        },
        "id": "_AVduoHr0SDG",
        "outputId": "0952865d-7a8e-48b4-b166-1475cd67d3ff"
      },
      "execution_count": null,
      "outputs": [
        {
          "output_type": "stream",
          "name": "stdout",
          "text": [
            "[[ 0.000e+00  0.000e+00 -2.674e+01]\n",
            " [ 1.000e+00  8.600e+00 -1.460e+00]\n",
            " [ 2.000e+00  3.100e+02 -7.400e-01]\n",
            " [ 3.000e+00  4.340e+00 -2.700e-01]\n",
            " [ 4.000e+00  3.700e+01 -5.000e-02]\n",
            " [ 5.000e+00  2.500e+01  3.000e-02]\n",
            " [ 6.000e+00  4.300e+01  8.000e-02]\n",
            " [ 7.000e+00  8.600e+02  1.300e-01]\n",
            " [ 8.000e+00  1.100e+01  3.400e-01]\n",
            " [ 9.000e+00  1.400e+02  4.600e-01]\n",
            " [ 1.000e+01  6.400e+02  5.000e-01]]\n",
            "[  0.     0.   -26.74]\n"
          ]
        }
      ]
    },
    {
      "cell_type": "markdown",
      "source": [
        "You can see each row is put into an array within the larger data array. We could write some lines to put each data column into its own array, or we can generate the arrays using a different read in method."
      ],
      "metadata": {
        "id": "PU0nX1ii1hiw"
      }
    },
    {
      "cell_type": "code",
      "source": [
        "data = np.genfromtxt('star_nums.txt',skip_header=1,usecols=(0,1,2),names=('rank','distance','magnitude'))\n",
        "print(data['rank'])\n",
        "print(data['distance'])\n",
        "print(data['magnitude'])"
      ],
      "metadata": {
        "colab": {
          "base_uri": "https://localhost:8080/"
        },
        "id": "9MP_4dWt0ybY",
        "outputId": "ba25c3d7-15e8-4e20-da75-9c86df686491"
      },
      "execution_count": null,
      "outputs": [
        {
          "output_type": "stream",
          "name": "stdout",
          "text": [
            "[ 0.  1.  2.  3.  4.  5.  6.  7.  8.  9. 10.]\n",
            "[  0.     8.6  310.     4.34  37.    25.    43.   860.    11.   140.\n",
            " 640.  ]\n",
            "[-26.74  -1.46  -0.74  -0.27  -0.05   0.03   0.08   0.13   0.34   0.46\n",
            "   0.5 ]\n"
          ]
        }
      ]
    },
    {
      "cell_type": "code",
      "source": [],
      "metadata": {
        "id": "ZuVXcZkg5017"
      },
      "execution_count": null,
      "outputs": []
    }
  ]
}